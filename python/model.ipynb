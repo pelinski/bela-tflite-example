{
 "cells": [
  {
   "attachments": {},
   "cell_type": "markdown",
   "metadata": {},
   "source": [
    "# Building a simple linear model with Keras + saving it as .tflite\n",
    "In this notebook be build a simple linear model with Keras and we save it as a `.tflite` file to run it later on Bela. The linear model has one dense layer and the function we expect the model to learn is $y = 3x + 5$.\n",
    "\n",
    "First, we install and import some necessary libraries:"
   ]
  },
  {
   "cell_type": "code",
   "execution_count": 6,
   "metadata": {},
   "outputs": [
    {
     "name": "stdout",
     "output_type": "stream",
     "text": [
      "Requirement already satisfied: numpy in /Users/teresapelinski/.local/share/virtualenvs/bela-tflite-example-NG5w0JxQ/lib/python3.9/site-packages (1.24.1)\n",
      "Requirement already satisfied: tensorflow in /Users/teresapelinski/.local/share/virtualenvs/bela-tflite-example-NG5w0JxQ/lib/python3.9/site-packages (2.11.0)\n",
      "Requirement already satisfied: six>=1.12.0 in /Users/teresapelinski/.local/share/virtualenvs/bela-tflite-example-NG5w0JxQ/lib/python3.9/site-packages (from tensorflow) (1.16.0)\n",
      "Requirement already satisfied: gast<=0.4.0,>=0.2.1 in /Users/teresapelinski/.local/share/virtualenvs/bela-tflite-example-NG5w0JxQ/lib/python3.9/site-packages (from tensorflow) (0.4.0)\n",
      "Requirement already satisfied: absl-py>=1.0.0 in /Users/teresapelinski/.local/share/virtualenvs/bela-tflite-example-NG5w0JxQ/lib/python3.9/site-packages (from tensorflow) (1.3.0)\n",
      "Requirement already satisfied: typing-extensions>=3.6.6 in /Users/teresapelinski/.local/share/virtualenvs/bela-tflite-example-NG5w0JxQ/lib/python3.9/site-packages (from tensorflow) (4.4.0)\n",
      "Requirement already satisfied: tensorflow-estimator<2.12,>=2.11.0 in /Users/teresapelinski/.local/share/virtualenvs/bela-tflite-example-NG5w0JxQ/lib/python3.9/site-packages (from tensorflow) (2.11.0)\n",
      "Requirement already satisfied: flatbuffers>=2.0 in /Users/teresapelinski/.local/share/virtualenvs/bela-tflite-example-NG5w0JxQ/lib/python3.9/site-packages (from tensorflow) (22.12.6)\n",
      "Requirement already satisfied: protobuf<3.20,>=3.9.2 in /Users/teresapelinski/.local/share/virtualenvs/bela-tflite-example-NG5w0JxQ/lib/python3.9/site-packages (from tensorflow) (3.19.6)\n",
      "Requirement already satisfied: keras<2.12,>=2.11.0 in /Users/teresapelinski/.local/share/virtualenvs/bela-tflite-example-NG5w0JxQ/lib/python3.9/site-packages (from tensorflow) (2.11.0)\n",
      "Requirement already satisfied: packaging in /Users/teresapelinski/.local/share/virtualenvs/bela-tflite-example-NG5w0JxQ/lib/python3.9/site-packages (from tensorflow) (22.0)\n",
      "Requirement already satisfied: tensorflow-io-gcs-filesystem>=0.23.1 in /Users/teresapelinski/.local/share/virtualenvs/bela-tflite-example-NG5w0JxQ/lib/python3.9/site-packages (from tensorflow) (0.29.0)\n",
      "Requirement already satisfied: wrapt>=1.11.0 in /Users/teresapelinski/.local/share/virtualenvs/bela-tflite-example-NG5w0JxQ/lib/python3.9/site-packages (from tensorflow) (1.14.1)\n",
      "Requirement already satisfied: libclang>=13.0.0 in /Users/teresapelinski/.local/share/virtualenvs/bela-tflite-example-NG5w0JxQ/lib/python3.9/site-packages (from tensorflow) (14.0.6)\n",
      "Requirement already satisfied: numpy>=1.20 in /Users/teresapelinski/.local/share/virtualenvs/bela-tflite-example-NG5w0JxQ/lib/python3.9/site-packages (from tensorflow) (1.24.1)\n",
      "Requirement already satisfied: setuptools in /Users/teresapelinski/.local/share/virtualenvs/bela-tflite-example-NG5w0JxQ/lib/python3.9/site-packages (from tensorflow) (65.6.3)\n",
      "Requirement already satisfied: h5py>=2.9.0 in /Users/teresapelinski/.local/share/virtualenvs/bela-tflite-example-NG5w0JxQ/lib/python3.9/site-packages (from tensorflow) (3.7.0)\n",
      "Requirement already satisfied: astunparse>=1.6.0 in /Users/teresapelinski/.local/share/virtualenvs/bela-tflite-example-NG5w0JxQ/lib/python3.9/site-packages (from tensorflow) (1.6.3)\n",
      "Requirement already satisfied: opt-einsum>=2.3.2 in /Users/teresapelinski/.local/share/virtualenvs/bela-tflite-example-NG5w0JxQ/lib/python3.9/site-packages (from tensorflow) (3.3.0)\n",
      "Requirement already satisfied: tensorboard<2.12,>=2.11 in /Users/teresapelinski/.local/share/virtualenvs/bela-tflite-example-NG5w0JxQ/lib/python3.9/site-packages (from tensorflow) (2.11.0)\n",
      "Requirement already satisfied: termcolor>=1.1.0 in /Users/teresapelinski/.local/share/virtualenvs/bela-tflite-example-NG5w0JxQ/lib/python3.9/site-packages (from tensorflow) (2.1.1)\n",
      "Requirement already satisfied: google-pasta>=0.1.1 in /Users/teresapelinski/.local/share/virtualenvs/bela-tflite-example-NG5w0JxQ/lib/python3.9/site-packages (from tensorflow) (0.2.0)\n",
      "Requirement already satisfied: grpcio<2.0,>=1.24.3 in /Users/teresapelinski/.local/share/virtualenvs/bela-tflite-example-NG5w0JxQ/lib/python3.9/site-packages (from tensorflow) (1.51.1)\n",
      "Requirement already satisfied: wheel<1.0,>=0.23.0 in /Users/teresapelinski/.local/share/virtualenvs/bela-tflite-example-NG5w0JxQ/lib/python3.9/site-packages (from astunparse>=1.6.0->tensorflow) (0.38.4)\n",
      "Requirement already satisfied: requests<3,>=2.21.0 in /Users/teresapelinski/.local/share/virtualenvs/bela-tflite-example-NG5w0JxQ/lib/python3.9/site-packages (from tensorboard<2.12,>=2.11->tensorflow) (2.28.1)\n",
      "Requirement already satisfied: google-auth<3,>=1.6.3 in /Users/teresapelinski/.local/share/virtualenvs/bela-tflite-example-NG5w0JxQ/lib/python3.9/site-packages (from tensorboard<2.12,>=2.11->tensorflow) (2.15.0)\n",
      "Requirement already satisfied: tensorboard-plugin-wit>=1.6.0 in /Users/teresapelinski/.local/share/virtualenvs/bela-tflite-example-NG5w0JxQ/lib/python3.9/site-packages (from tensorboard<2.12,>=2.11->tensorflow) (1.8.1)\n",
      "Requirement already satisfied: tensorboard-data-server<0.7.0,>=0.6.0 in /Users/teresapelinski/.local/share/virtualenvs/bela-tflite-example-NG5w0JxQ/lib/python3.9/site-packages (from tensorboard<2.12,>=2.11->tensorflow) (0.6.1)\n",
      "Requirement already satisfied: google-auth-oauthlib<0.5,>=0.4.1 in /Users/teresapelinski/.local/share/virtualenvs/bela-tflite-example-NG5w0JxQ/lib/python3.9/site-packages (from tensorboard<2.12,>=2.11->tensorflow) (0.4.6)\n",
      "Requirement already satisfied: werkzeug>=1.0.1 in /Users/teresapelinski/.local/share/virtualenvs/bela-tflite-example-NG5w0JxQ/lib/python3.9/site-packages (from tensorboard<2.12,>=2.11->tensorflow) (2.2.2)\n",
      "Requirement already satisfied: markdown>=2.6.8 in /Users/teresapelinski/.local/share/virtualenvs/bela-tflite-example-NG5w0JxQ/lib/python3.9/site-packages (from tensorboard<2.12,>=2.11->tensorflow) (3.4.1)\n",
      "Requirement already satisfied: rsa<5,>=3.1.4 in /Users/teresapelinski/.local/share/virtualenvs/bela-tflite-example-NG5w0JxQ/lib/python3.9/site-packages (from google-auth<3,>=1.6.3->tensorboard<2.12,>=2.11->tensorflow) (4.9)\n",
      "Requirement already satisfied: pyasn1-modules>=0.2.1 in /Users/teresapelinski/.local/share/virtualenvs/bela-tflite-example-NG5w0JxQ/lib/python3.9/site-packages (from google-auth<3,>=1.6.3->tensorboard<2.12,>=2.11->tensorflow) (0.2.8)\n",
      "Requirement already satisfied: cachetools<6.0,>=2.0.0 in /Users/teresapelinski/.local/share/virtualenvs/bela-tflite-example-NG5w0JxQ/lib/python3.9/site-packages (from google-auth<3,>=1.6.3->tensorboard<2.12,>=2.11->tensorflow) (5.2.0)\n",
      "Requirement already satisfied: requests-oauthlib>=0.7.0 in /Users/teresapelinski/.local/share/virtualenvs/bela-tflite-example-NG5w0JxQ/lib/python3.9/site-packages (from google-auth-oauthlib<0.5,>=0.4.1->tensorboard<2.12,>=2.11->tensorflow) (1.3.1)\n",
      "Requirement already satisfied: importlib-metadata>=4.4 in /Users/teresapelinski/.local/share/virtualenvs/bela-tflite-example-NG5w0JxQ/lib/python3.9/site-packages (from markdown>=2.6.8->tensorboard<2.12,>=2.11->tensorflow) (5.2.0)\n",
      "Requirement already satisfied: charset-normalizer<3,>=2 in /Users/teresapelinski/.local/share/virtualenvs/bela-tflite-example-NG5w0JxQ/lib/python3.9/site-packages (from requests<3,>=2.21.0->tensorboard<2.12,>=2.11->tensorflow) (2.1.1)\n",
      "Requirement already satisfied: idna<4,>=2.5 in /Users/teresapelinski/.local/share/virtualenvs/bela-tflite-example-NG5w0JxQ/lib/python3.9/site-packages (from requests<3,>=2.21.0->tensorboard<2.12,>=2.11->tensorflow) (3.4)\n",
      "Requirement already satisfied: certifi>=2017.4.17 in /Users/teresapelinski/.local/share/virtualenvs/bela-tflite-example-NG5w0JxQ/lib/python3.9/site-packages (from requests<3,>=2.21.0->tensorboard<2.12,>=2.11->tensorflow) (2022.12.7)\n",
      "Requirement already satisfied: urllib3<1.27,>=1.21.1 in /Users/teresapelinski/.local/share/virtualenvs/bela-tflite-example-NG5w0JxQ/lib/python3.9/site-packages (from requests<3,>=2.21.0->tensorboard<2.12,>=2.11->tensorflow) (1.26.13)\n",
      "Requirement already satisfied: MarkupSafe>=2.1.1 in /Users/teresapelinski/.local/share/virtualenvs/bela-tflite-example-NG5w0JxQ/lib/python3.9/site-packages (from werkzeug>=1.0.1->tensorboard<2.12,>=2.11->tensorflow) (2.1.1)\n",
      "Requirement already satisfied: zipp>=0.5 in /Users/teresapelinski/.local/share/virtualenvs/bela-tflite-example-NG5w0JxQ/lib/python3.9/site-packages (from importlib-metadata>=4.4->markdown>=2.6.8->tensorboard<2.12,>=2.11->tensorflow) (3.11.0)\n",
      "Requirement already satisfied: pyasn1<0.5.0,>=0.4.6 in /Users/teresapelinski/.local/share/virtualenvs/bela-tflite-example-NG5w0JxQ/lib/python3.9/site-packages (from pyasn1-modules>=0.2.1->google-auth<3,>=1.6.3->tensorboard<2.12,>=2.11->tensorflow) (0.4.8)\n",
      "Requirement already satisfied: oauthlib>=3.0.0 in /Users/teresapelinski/.local/share/virtualenvs/bela-tflite-example-NG5w0JxQ/lib/python3.9/site-packages (from requests-oauthlib>=0.7.0->google-auth-oauthlib<0.5,>=0.4.1->tensorboard<2.12,>=2.11->tensorflow) (3.2.2)\n",
      "Requirement already satisfied: matplotlib in /Users/teresapelinski/.local/share/virtualenvs/bela-tflite-example-NG5w0JxQ/lib/python3.9/site-packages (3.6.2)\n",
      "Requirement already satisfied: numpy>=1.19 in /Users/teresapelinski/.local/share/virtualenvs/bela-tflite-example-NG5w0JxQ/lib/python3.9/site-packages (from matplotlib) (1.24.1)\n",
      "Requirement already satisfied: cycler>=0.10 in /Users/teresapelinski/.local/share/virtualenvs/bela-tflite-example-NG5w0JxQ/lib/python3.9/site-packages (from matplotlib) (0.11.0)\n",
      "Requirement already satisfied: fonttools>=4.22.0 in /Users/teresapelinski/.local/share/virtualenvs/bela-tflite-example-NG5w0JxQ/lib/python3.9/site-packages (from matplotlib) (4.38.0)\n",
      "Requirement already satisfied: python-dateutil>=2.7 in /Users/teresapelinski/.local/share/virtualenvs/bela-tflite-example-NG5w0JxQ/lib/python3.9/site-packages (from matplotlib) (2.8.2)\n",
      "Requirement already satisfied: packaging>=20.0 in /Users/teresapelinski/.local/share/virtualenvs/bela-tflite-example-NG5w0JxQ/lib/python3.9/site-packages (from matplotlib) (22.0)\n",
      "Requirement already satisfied: pyparsing>=2.2.1 in /Users/teresapelinski/.local/share/virtualenvs/bela-tflite-example-NG5w0JxQ/lib/python3.9/site-packages (from matplotlib) (3.0.9)\n",
      "Requirement already satisfied: pillow>=6.2.0 in /Users/teresapelinski/.local/share/virtualenvs/bela-tflite-example-NG5w0JxQ/lib/python3.9/site-packages (from matplotlib) (9.3.0)\n",
      "Requirement already satisfied: contourpy>=1.0.1 in /Users/teresapelinski/.local/share/virtualenvs/bela-tflite-example-NG5w0JxQ/lib/python3.9/site-packages (from matplotlib) (1.0.6)\n",
      "Requirement already satisfied: kiwisolver>=1.0.1 in /Users/teresapelinski/.local/share/virtualenvs/bela-tflite-example-NG5w0JxQ/lib/python3.9/site-packages (from matplotlib) (1.4.4)\n",
      "Requirement already satisfied: six>=1.5 in /Users/teresapelinski/.local/share/virtualenvs/bela-tflite-example-NG5w0JxQ/lib/python3.9/site-packages (from python-dateutil>=2.7->matplotlib) (1.16.0)\n"
     ]
    }
   ],
   "source": [
    "!pip install numpy\n",
    "!pip install tensorflow\n",
    "!pip install matplotlib"
   ]
  },
  {
   "cell_type": "code",
   "execution_count": 7,
   "metadata": {},
   "outputs": [],
   "source": [
    "import numpy as np\n",
    "import tensorflow as tf\n",
    "import matplotlib.pyplot as plt"
   ]
  },
  {
   "attachments": {},
   "cell_type": "markdown",
   "metadata": {},
   "source": [
    "Now we can generate the training data (the input-output pair (`x`,`y_gt`)) . The subindex `gt` stands for \"ground truth\"."
   ]
  },
  {
   "cell_type": "code",
   "execution_count": 8,
   "metadata": {},
   "outputs": [],
   "source": [
    "# training data \n",
    "n = 10000 # Number of data points\n",
    "x_min, x_max = -10, 10\n",
    "x = np.random.choice(np.arange(x_min,x_max, .01),n)\n",
    "\n",
    "m_gt, b_gt = 3, 5 # ground truth values for m and b\n",
    "y_gt =m_gt *x + b_gt # function to learn f(x) = 3*x + 5"
   ]
  },
  {
   "attachments": {},
   "cell_type": "markdown",
   "metadata": {},
   "source": [
    "Let's visualise the training data:"
   ]
  },
  {
   "cell_type": "code",
   "execution_count": 9,
   "metadata": {},
   "outputs": [
    {
     "data": {
      "text/plain": [
       "<matplotlib.legend.Legend at 0x7fd9c212a4f0>"
      ]
     },
     "execution_count": 9,
     "metadata": {},
     "output_type": "execute_result"
    },
    {
     "data": {
      "image/png": "[encoded data removed]",
      "text/plain": [
       "<Figure size 640x480 with 1 Axes>"
      ]
     },
     "metadata": {},
     "output_type": "display_data"
    }
   ],
   "source": [
    "plt.scatter(x, y_gt, alpha=0.1, label='ground truth')\n",
    "plt.xlabel('x')\n",
    "plt.ylabel('y')\n",
    "plt.legend()"
   ]
  },
  {
   "attachments": {},
   "cell_type": "markdown",
   "metadata": {},
   "source": [
    "We build a linear model using a single Keras dense layer. We will use the adam optimiser and the mean squared error loss. We train the model for 100 epochs using the `.fit` method."
   ]
  },
  {
   "cell_type": "code",
   "execution_count": 10,
   "metadata": {},
   "outputs": [
    {
     "name": "stdout",
     "output_type": "stream",
     "text": [
      "Epoch 1/100\n",
      "125/125 [==============================] - 1s 2ms/step - loss: 120.0835 - mae: 9.1078 - mse: 120.0835 - val_loss: 62.7921 - val_mae: 6.6030 - val_mse: 62.7921\n",
      "Epoch 2/100\n",
      "125/125 [==============================] - 0s 1ms/step - loss: 32.3691 - mae: 4.5849 - mse: 32.3691 - val_loss: 13.8084 - val_mae: 3.0302 - val_mse: 13.8084\n",
      "Epoch 3/100\n",
      "125/125 [==============================] - 0s 1ms/step - loss: 7.1682 - mae: 2.3371 - mse: 7.1682 - val_loss: 3.5234 - val_mae: 1.8439 - val_mse: 3.5234\n",
      "Epoch 4/100\n",
      "125/125 [==============================] - 0s 2ms/step - loss: 2.0914 - mae: 1.4193 - mse: 2.0914 - val_loss: 1.0311 - val_mae: 1.0154 - val_mse: 1.0311\n",
      "Epoch 5/100\n",
      "125/125 [==============================] - 0s 1ms/step - loss: 0.5019 - mae: 0.6848 - mse: 0.5019 - val_loss: 0.1535 - val_mae: 0.3917 - val_mse: 0.1535\n",
      "Epoch 6/100\n",
      "125/125 [==============================] - 0s 1ms/step - loss: 0.0504 - mae: 0.2034 - mse: 0.0504 - val_loss: 0.0045 - val_mae: 0.0669 - val_mse: 0.0045\n",
      "Epoch 7/100\n",
      "125/125 [==============================] - 0s 1ms/step - loss: 8.0521e-04 - mae: 0.0212 - mse: 8.0521e-04 - val_loss: 1.3575e-06 - val_mae: 0.0011 - val_mse: 1.3575e-06\n",
      "Epoch 8/100\n",
      "125/125 [==============================] - 0s 1ms/step - loss: 9.1114e-08 - mae: 1.4179e-04 - mse: 9.1114e-08 - val_loss: 2.9921e-12 - val_mae: 1.2815e-06 - val_mse: 2.9921e-12\n",
      "Epoch 9/100\n",
      "125/125 [==============================] - 0s 961us/step - loss: 1.1044e-12 - mae: 5.6289e-07 - mse: 1.1044e-12 - val_loss: 7.5638e-13 - val_mae: 4.1989e-07 - val_mse: 7.5638e-13\n",
      "Epoch 10/100\n",
      "125/125 [==============================] - 0s 932us/step - loss: 7.5162e-13 - mae: 4.2767e-07 - mse: 7.5162e-13 - val_loss: 7.5638e-13 - val_mae: 4.1989e-07 - val_mse: 7.5638e-13\n",
      "Epoch 11/100\n",
      "125/125 [==============================] - 0s 961us/step - loss: 7.5162e-13 - mae: 4.2767e-07 - mse: 7.5162e-13 - val_loss: 7.5638e-13 - val_mae: 4.1989e-07 - val_mse: 7.5638e-13\n",
      "Epoch 12/100\n",
      "125/125 [==============================] - 0s 1ms/step - loss: 7.5162e-13 - mae: 4.2767e-07 - mse: 7.5162e-13 - val_loss: 7.5638e-13 - val_mae: 4.1989e-07 - val_mse: 7.5638e-13\n",
      "Epoch 13/100\n",
      "125/125 [==============================] - 0s 1ms/step - loss: 9.0680e-13 - mae: 4.9253e-07 - mse: 9.0680e-13 - val_loss: 7.5638e-13 - val_mae: 4.1989e-07 - val_mse: 7.5638e-13\n",
      "Epoch 14/100\n",
      "125/125 [==============================] - 0s 1ms/step - loss: 2.3688e-12 - mae: 9.8187e-07 - mse: 2.3688e-12 - val_loss: 7.5638e-13 - val_mae: 4.1989e-07 - val_mse: 7.5638e-13\n",
      "Epoch 15/100\n",
      "125/125 [==============================] - 0s 954us/step - loss: 4.6792e-12 - mae: 1.4282e-06 - mse: 4.6792e-12 - val_loss: 2.9921e-12 - val_mae: 1.2815e-06 - val_mse: 2.9921e-12\n",
      "Epoch 16/100\n",
      "125/125 [==============================] - 0s 942us/step - loss: 7.6759e-06 - mae: 0.0018 - mse: 7.6759e-06 - val_loss: 6.3616e-06 - val_mae: 0.0021 - val_mse: 6.3616e-06\n",
      "Epoch 17/100\n",
      "125/125 [==============================] - 0s 948us/step - loss: 6.4650e-07 - mae: 4.2380e-04 - mse: 6.4650e-07 - val_loss: 1.6837e-07 - val_mae: 3.5520e-04 - val_mse: 1.6837e-07\n",
      "Epoch 18/100\n",
      "125/125 [==============================] - 0s 1ms/step - loss: 5.7998e-06 - mae: 0.0013 - mse: 5.7998e-06 - val_loss: 2.9994e-06 - val_mae: 0.0014 - val_mse: 2.9994e-06\n",
      "Epoch 19/100\n",
      "125/125 [==============================] - 0s 1ms/step - loss: 9.2433e-06 - mae: 0.0021 - mse: 9.2433e-06 - val_loss: 1.2603e-07 - val_mae: 2.9835e-04 - val_mse: 1.2603e-07\n",
      "Epoch 20/100\n",
      "125/125 [==============================] - 0s 1ms/step - loss: 2.3466e-06 - mae: 7.1766e-04 - mse: 2.3466e-06 - val_loss: 3.9993e-05 - val_mae: 0.0052 - val_mse: 3.9993e-05\n",
      "Epoch 21/100\n",
      "125/125 [==============================] - 0s 2ms/step - loss: 3.3874e-06 - mae: 9.3171e-04 - mse: 3.3874e-06 - val_loss: 1.0406e-07 - val_mae: 2.7772e-04 - val_mse: 1.0406e-07\n",
      "Epoch 22/100\n",
      "125/125 [==============================] - 0s 1ms/step - loss: 1.1125e-05 - mae: 0.0020 - mse: 1.1125e-05 - val_loss: 1.8063e-07 - val_mae: 3.5695e-04 - val_mse: 1.8063e-07\n",
      "Epoch 23/100\n",
      "125/125 [==============================] - 0s 1ms/step - loss: 1.1370e-06 - mae: 6.6052e-04 - mse: 1.1370e-06 - val_loss: 9.0898e-08 - val_mae: 2.4524e-04 - val_mse: 9.0898e-08\n",
      "Epoch 24/100\n",
      "125/125 [==============================] - 0s 964us/step - loss: 7.7875e-06 - mae: 0.0019 - mse: 7.7875e-06 - val_loss: 1.5655e-06 - val_mae: 0.0010 - val_mse: 1.5655e-06\n",
      "Epoch 25/100\n",
      "125/125 [==============================] - 0s 963us/step - loss: 2.0388e-06 - mae: 5.8780e-04 - mse: 2.0388e-06 - val_loss: 8.4148e-06 - val_mae: 0.0025 - val_mse: 8.4148e-06\n",
      "Epoch 26/100\n",
      "125/125 [==============================] - 0s 971us/step - loss: 3.0404e-06 - mae: 0.0012 - mse: 3.0404e-06 - val_loss: 3.5006e-06 - val_mae: 0.0016 - val_mse: 3.5006e-06\n",
      "Epoch 27/100\n",
      "125/125 [==============================] - 0s 937us/step - loss: 3.7394e-06 - mae: 0.0012 - mse: 3.7394e-06 - val_loss: 2.1374e-07 - val_mae: 3.9692e-04 - val_mse: 2.1374e-07\n",
      "Epoch 28/100\n",
      "125/125 [==============================] - 0s 958us/step - loss: 4.5500e-06 - mae: 0.0011 - mse: 4.5500e-06 - val_loss: 5.1395e-06 - val_mae: 0.0020 - val_mse: 5.1395e-06\n",
      "Epoch 29/100\n",
      "125/125 [==============================] - 0s 948us/step - loss: 8.1644e-06 - mae: 0.0017 - mse: 8.1644e-06 - val_loss: 3.8080e-07 - val_mae: 5.1486e-04 - val_mse: 3.8080e-07\n",
      "Epoch 30/100\n",
      "125/125 [==============================] - 0s 965us/step - loss: 3.4436e-07 - mae: 3.9317e-04 - mse: 3.4436e-07 - val_loss: 1.4753e-05 - val_mae: 0.0033 - val_mse: 1.4753e-05\n",
      "Epoch 31/100\n",
      "125/125 [==============================] - 0s 977us/step - loss: 5.0668e-06 - mae: 0.0014 - mse: 5.0668e-06 - val_loss: 2.5070e-08 - val_mae: 1.3570e-04 - val_mse: 2.5070e-08\n",
      "Epoch 32/100\n",
      "125/125 [==============================] - 0s 963us/step - loss: 9.7111e-06 - mae: 0.0017 - mse: 9.7111e-06 - val_loss: 8.4768e-09 - val_mae: 8.7300e-05 - val_mse: 8.4768e-09\n",
      "Epoch 33/100\n",
      "125/125 [==============================] - 0s 946us/step - loss: 1.6134e-05 - mae: 0.0015 - mse: 1.6134e-05 - val_loss: 2.8996e-05 - val_mae: 0.0046 - val_mse: 2.8996e-05\n",
      "Epoch 34/100\n",
      "125/125 [==============================] - 0s 961us/step - loss: 1.7780e-06 - mae: 6.3542e-04 - mse: 1.7780e-06 - val_loss: 6.6138e-11 - val_mae: 7.5982e-06 - val_mse: 6.6138e-11\n",
      "Epoch 35/100\n",
      "125/125 [==============================] - 0s 1ms/step - loss: 5.2845e-06 - mae: 0.0010 - mse: 5.2845e-06 - val_loss: 3.4302e-06 - val_mae: 0.0016 - val_mse: 3.4302e-06\n",
      "Epoch 36/100\n",
      "125/125 [==============================] - 0s 1ms/step - loss: 4.2458e-06 - mae: 0.0013 - mse: 4.2458e-06 - val_loss: 3.8325e-06 - val_mae: 0.0017 - val_mse: 3.8325e-06\n",
      "Epoch 37/100\n",
      "125/125 [==============================] - 0s 956us/step - loss: 3.0968e-06 - mae: 0.0010 - mse: 3.0968e-06 - val_loss: 7.7039e-07 - val_mae: 7.7877e-04 - val_mse: 7.7039e-07\n",
      "Epoch 38/100\n",
      "125/125 [==============================] - 0s 1ms/step - loss: 4.3238e-06 - mae: 0.0012 - mse: 4.3238e-06 - val_loss: 4.5491e-08 - val_mae: 1.8340e-04 - val_mse: 4.5491e-08\n",
      "Epoch 39/100\n",
      "125/125 [==============================] - 0s 1ms/step - loss: 4.7288e-06 - mae: 0.0014 - mse: 4.7288e-06 - val_loss: 1.9817e-07 - val_mae: 3.6372e-04 - val_mse: 1.9817e-07\n",
      "Epoch 40/100\n",
      "125/125 [==============================] - 0s 1ms/step - loss: 1.1432e-05 - mae: 0.0020 - mse: 1.1432e-05 - val_loss: 1.3533e-06 - val_mae: 9.9620e-04 - val_mse: 1.3533e-06\n",
      "Epoch 41/100\n",
      "125/125 [==============================] - 0s 1ms/step - loss: 4.8747e-07 - mae: 3.7730e-04 - mse: 4.8747e-07 - val_loss: 4.5816e-08 - val_mae: 1.7419e-04 - val_mse: 4.5816e-08\n",
      "Epoch 42/100\n",
      "125/125 [==============================] - 0s 974us/step - loss: 5.7072e-06 - mae: 0.0012 - mse: 5.7072e-06 - val_loss: 2.6433e-08 - val_mae: 1.4619e-04 - val_mse: 2.6433e-08\n",
      "Epoch 43/100\n",
      "125/125 [==============================] - 0s 983us/step - loss: 7.0392e-06 - mae: 0.0016 - mse: 7.0392e-06 - val_loss: 2.6480e-05 - val_mae: 0.0043 - val_mse: 2.6480e-05\n",
      "Epoch 44/100\n",
      "125/125 [==============================] - 0s 1ms/step - loss: 1.4588e-06 - mae: 5.8891e-04 - mse: 1.4588e-06 - val_loss: 1.2898e-08 - val_mae: 9.8460e-05 - val_mse: 1.2898e-08\n",
      "Epoch 45/100\n",
      "125/125 [==============================] - 0s 993us/step - loss: 6.3363e-06 - mae: 0.0014 - mse: 6.3363e-06 - val_loss: 3.8334e-08 - val_mae: 1.6242e-04 - val_mse: 3.8334e-08\n",
      "Epoch 46/100\n",
      "125/125 [==============================] - 0s 1ms/step - loss: 6.0015e-06 - mae: 0.0014 - mse: 6.0015e-06 - val_loss: 6.4646e-07 - val_mae: 6.8908e-04 - val_mse: 6.4646e-07\n",
      "Epoch 47/100\n",
      "125/125 [==============================] - 0s 1ms/step - loss: 9.4332e-06 - mae: 0.0017 - mse: 9.4332e-06 - val_loss: 5.1853e-06 - val_mae: 0.0019 - val_mse: 5.1853e-06\n",
      "Epoch 48/100\n",
      "125/125 [==============================] - 0s 1ms/step - loss: 1.8766e-06 - mae: 7.5211e-04 - mse: 1.8766e-06 - val_loss: 4.8687e-09 - val_mae: 6.0201e-05 - val_mse: 4.8687e-09\n",
      "Epoch 49/100\n",
      "125/125 [==============================] - 0s 1ms/step - loss: 4.8225e-06 - mae: 0.0013 - mse: 4.8225e-06 - val_loss: 2.0878e-07 - val_mae: 3.9647e-04 - val_mse: 2.0878e-07\n",
      "Epoch 50/100\n",
      "125/125 [==============================] - 0s 1ms/step - loss: 5.8510e-06 - mae: 0.0016 - mse: 5.8510e-06 - val_loss: 1.4460e-05 - val_mae: 0.0033 - val_mse: 1.4460e-05\n",
      "Epoch 51/100\n",
      "125/125 [==============================] - 0s 1ms/step - loss: 1.0601e-06 - mae: 5.8396e-04 - mse: 1.0601e-06 - val_loss: 4.9489e-07 - val_mae: 5.9041e-04 - val_mse: 4.9489e-07\n",
      "Epoch 52/100\n",
      "125/125 [==============================] - 0s 977us/step - loss: 5.5781e-06 - mae: 0.0014 - mse: 5.5781e-06 - val_loss: 3.4512e-08 - val_mae: 1.5562e-04 - val_mse: 3.4512e-08\n",
      "Epoch 53/100\n",
      "125/125 [==============================] - 0s 1ms/step - loss: 4.1948e-06 - mae: 0.0014 - mse: 4.1948e-06 - val_loss: 1.3268e-07 - val_mae: 3.1005e-04 - val_mse: 1.3268e-07\n",
      "Epoch 54/100\n",
      "125/125 [==============================] - 0s 1ms/step - loss: 3.7710e-06 - mae: 0.0012 - mse: 3.7710e-06 - val_loss: 1.1781e-07 - val_mae: 3.0044e-04 - val_mse: 1.1781e-07\n",
      "Epoch 55/100\n",
      "125/125 [==============================] - 0s 981us/step - loss: 6.2702e-06 - mae: 0.0017 - mse: 6.2702e-06 - val_loss: 1.5145e-05 - val_mae: 0.0034 - val_mse: 1.5145e-05\n",
      "Epoch 56/100\n",
      "125/125 [==============================] - 0s 972us/step - loss: 3.4351e-06 - mae: 0.0012 - mse: 3.4351e-06 - val_loss: 1.5579e-06 - val_mae: 0.0011 - val_mse: 1.5579e-06\n",
      "Epoch 57/100\n",
      "125/125 [==============================] - 0s 957us/step - loss: 1.2941e-05 - mae: 0.0021 - mse: 1.2941e-05 - val_loss: 1.4556e-08 - val_mae: 1.0281e-04 - val_mse: 1.4556e-08\n",
      "Epoch 58/100\n",
      "125/125 [==============================] - 0s 955us/step - loss: 1.7008e-07 - mae: 1.1312e-04 - mse: 1.7008e-07 - val_loss: 1.7116e-06 - val_mae: 0.0011 - val_mse: 1.7116e-06\n",
      "Epoch 59/100\n",
      "125/125 [==============================] - 0s 963us/step - loss: 9.7881e-06 - mae: 0.0018 - mse: 9.7881e-06 - val_loss: 1.6123e-08 - val_mae: 1.1259e-04 - val_mse: 1.6123e-08\n",
      "Epoch 60/100\n",
      "125/125 [==============================] - 0s 967us/step - loss: 4.0775e-06 - mae: 7.8587e-04 - mse: 4.0775e-06 - val_loss: 3.9018e-06 - val_mae: 0.0020 - val_mse: 3.9018e-06\n",
      "Epoch 61/100\n",
      "125/125 [==============================] - 0s 1ms/step - loss: 8.1771e-06 - mae: 0.0015 - mse: 8.1771e-06 - val_loss: 4.7122e-06 - val_mae: 0.0019 - val_mse: 4.7122e-06\n",
      "Epoch 62/100\n",
      "125/125 [==============================] - 0s 1ms/step - loss: 5.4401e-07 - mae: 3.5351e-04 - mse: 5.4401e-07 - val_loss: 3.5387e-09 - val_mae: 5.1314e-05 - val_mse: 3.5387e-09\n",
      "Epoch 63/100\n",
      "125/125 [==============================] - 0s 965us/step - loss: 3.7214e-06 - mae: 9.2659e-04 - mse: 3.7214e-06 - val_loss: 3.9319e-08 - val_mae: 1.6576e-04 - val_mse: 3.9319e-08\n",
      "Epoch 64/100\n",
      "125/125 [==============================] - 0s 955us/step - loss: 4.7825e-06 - mae: 0.0013 - mse: 4.7825e-06 - val_loss: 9.2092e-07 - val_mae: 8.2661e-04 - val_mse: 9.2092e-07\n",
      "Epoch 65/100\n",
      "125/125 [==============================] - 0s 955us/step - loss: 6.1042e-06 - mae: 0.0018 - mse: 6.1042e-06 - val_loss: 7.5199e-08 - val_mae: 2.3610e-04 - val_mse: 7.5199e-08\n",
      "Epoch 66/100\n",
      "125/125 [==============================] - 0s 959us/step - loss: 4.3991e-06 - mae: 0.0013 - mse: 4.3991e-06 - val_loss: 7.6086e-06 - val_mae: 0.0024 - val_mse: 7.6086e-06\n",
      "Epoch 67/100\n",
      "125/125 [==============================] - 0s 1ms/step - loss: 2.9846e-06 - mae: 0.0012 - mse: 2.9846e-06 - val_loss: 1.9786e-05 - val_mae: 0.0038 - val_mse: 1.9786e-05\n",
      "Epoch 68/100\n",
      "125/125 [==============================] - 0s 2ms/step - loss: 7.3645e-06 - mae: 0.0019 - mse: 7.3645e-06 - val_loss: 4.9425e-06 - val_mae: 0.0019 - val_mse: 4.9425e-06\n",
      "Epoch 69/100\n",
      "125/125 [==============================] - 0s 1ms/step - loss: 2.1767e-06 - mae: 7.0754e-04 - mse: 2.1767e-06 - val_loss: 4.6885e-05 - val_mae: 0.0059 - val_mse: 4.6885e-05\n",
      "Epoch 70/100\n",
      "125/125 [==============================] - 0s 1ms/step - loss: 4.4357e-06 - mae: 0.0013 - mse: 4.4357e-06 - val_loss: 5.3752e-08 - val_mae: 2.0054e-04 - val_mse: 5.3752e-08\n",
      "Epoch 71/100\n",
      "125/125 [==============================] - 0s 1ms/step - loss: 4.4897e-06 - mae: 0.0015 - mse: 4.4897e-06 - val_loss: 5.3012e-06 - val_mae: 0.0019 - val_mse: 5.3012e-06\n",
      "Epoch 72/100\n",
      "125/125 [==============================] - 0s 1ms/step - loss: 4.6084e-06 - mae: 0.0016 - mse: 4.6084e-06 - val_loss: 2.6196e-06 - val_mae: 0.0013 - val_mse: 2.6196e-06\n",
      "Epoch 73/100\n",
      "125/125 [==============================] - 0s 1ms/step - loss: 2.6813e-06 - mae: 0.0011 - mse: 2.6813e-06 - val_loss: 2.1772e-06 - val_mae: 0.0013 - val_mse: 2.1772e-06\n",
      "Epoch 74/100\n",
      "125/125 [==============================] - 0s 1ms/step - loss: 3.8348e-06 - mae: 0.0014 - mse: 3.8348e-06 - val_loss: 2.6282e-06 - val_mae: 0.0014 - val_mse: 2.6282e-06\n",
      "Epoch 75/100\n",
      "125/125 [==============================] - 0s 1ms/step - loss: 1.0156e-05 - mae: 0.0021 - mse: 1.0156e-05 - val_loss: 2.9630e-07 - val_mae: 4.4593e-04 - val_mse: 2.9630e-07\n",
      "Epoch 76/100\n",
      "125/125 [==============================] - 0s 1ms/step - loss: 5.6170e-07 - mae: 4.0723e-04 - mse: 5.6170e-07 - val_loss: 2.1367e-10 - val_mae: 1.4321e-05 - val_mse: 2.1367e-10\n",
      "Epoch 77/100\n",
      "125/125 [==============================] - 0s 1ms/step - loss: 7.5035e-06 - mae: 0.0014 - mse: 7.5035e-06 - val_loss: 1.0566e-07 - val_mae: 2.8211e-04 - val_mse: 1.0566e-07\n",
      "Epoch 78/100\n",
      "125/125 [==============================] - 0s 1ms/step - loss: 4.5747e-06 - mae: 0.0011 - mse: 4.5747e-06 - val_loss: 1.1713e-05 - val_mae: 0.0029 - val_mse: 1.1713e-05\n",
      "Epoch 79/100\n",
      "125/125 [==============================] - 0s 1ms/step - loss: 1.8065e-06 - mae: 7.7202e-04 - mse: 1.8065e-06 - val_loss: 5.7168e-07 - val_mae: 6.4886e-04 - val_mse: 5.7168e-07\n",
      "Epoch 80/100\n",
      "125/125 [==============================] - 0s 1ms/step - loss: 6.0330e-06 - mae: 0.0017 - mse: 6.0330e-06 - val_loss: 6.1468e-07 - val_mae: 6.7660e-04 - val_mse: 6.1468e-07\n",
      "Epoch 81/100\n",
      "125/125 [==============================] - 0s 1ms/step - loss: 3.4580e-06 - mae: 0.0013 - mse: 3.4580e-06 - val_loss: 6.2452e-06 - val_mae: 0.0020 - val_mse: 6.2452e-06\n",
      "Epoch 82/100\n",
      "125/125 [==============================] - 0s 1ms/step - loss: 3.0330e-06 - mae: 0.0013 - mse: 3.0330e-06 - val_loss: 1.4516e-08 - val_mae: 1.0385e-04 - val_mse: 1.4516e-08\n",
      "Epoch 83/100\n",
      "125/125 [==============================] - 0s 962us/step - loss: 3.1801e-06 - mae: 0.0013 - mse: 3.1801e-06 - val_loss: 1.1220e-07 - val_mae: 2.8751e-04 - val_mse: 1.1220e-07\n",
      "Epoch 84/100\n",
      "125/125 [==============================] - 0s 953us/step - loss: 3.3251e-06 - mae: 0.0010 - mse: 3.3251e-06 - val_loss: 4.3054e-08 - val_mae: 1.7988e-04 - val_mse: 4.3054e-08\n",
      "Epoch 85/100\n",
      "125/125 [==============================] - 0s 969us/step - loss: 3.9662e-06 - mae: 8.4126e-04 - mse: 3.9662e-06 - val_loss: 3.5079e-06 - val_mae: 0.0016 - val_mse: 3.5079e-06\n",
      "Epoch 86/100\n",
      "125/125 [==============================] - 0s 1ms/step - loss: 9.5600e-06 - mae: 0.0015 - mse: 9.5600e-06 - val_loss: 1.6483e-09 - val_mae: 3.3128e-05 - val_mse: 1.6483e-09\n",
      "Epoch 87/100\n",
      "125/125 [==============================] - 0s 1ms/step - loss: 7.9025e-06 - mae: 0.0011 - mse: 7.9025e-06 - val_loss: 7.7793e-07 - val_mae: 7.3584e-04 - val_mse: 7.7793e-07\n",
      "Epoch 88/100\n",
      "125/125 [==============================] - 0s 1ms/step - loss: 5.0999e-07 - mae: 5.4726e-04 - mse: 5.0999e-07 - val_loss: 7.1520e-07 - val_mae: 7.2907e-04 - val_mse: 7.1520e-07\n",
      "Epoch 89/100\n",
      "125/125 [==============================] - 0s 976us/step - loss: 4.8420e-06 - mae: 0.0013 - mse: 4.8420e-06 - val_loss: 3.8555e-07 - val_mae: 5.3881e-04 - val_mse: 3.8555e-07\n",
      "Epoch 90/100\n",
      "125/125 [==============================] - 0s 960us/step - loss: 7.1110e-06 - mae: 0.0016 - mse: 7.1110e-06 - val_loss: 1.5420e-06 - val_mae: 0.0011 - val_mse: 1.5420e-06\n",
      "Epoch 91/100\n",
      "125/125 [==============================] - 0s 950us/step - loss: 3.8902e-06 - mae: 9.2777e-04 - mse: 3.8902e-06 - val_loss: 4.4719e-06 - val_mae: 0.0017 - val_mse: 4.4719e-06\n",
      "Epoch 92/100\n",
      "125/125 [==============================] - 0s 973us/step - loss: 2.7933e-06 - mae: 0.0011 - mse: 2.7933e-06 - val_loss: 3.1653e-05 - val_mae: 0.0049 - val_mse: 3.1653e-05\n",
      "Epoch 93/100\n",
      "125/125 [==============================] - 0s 970us/step - loss: 3.1781e-06 - mae: 0.0010 - mse: 3.1781e-06 - val_loss: 8.2259e-07 - val_mae: 7.8224e-04 - val_mse: 8.2259e-07\n",
      "Epoch 94/100\n",
      "125/125 [==============================] - 0s 1ms/step - loss: 1.6826e-05 - mae: 0.0027 - mse: 1.6826e-05 - val_loss: 1.2079e-07 - val_mae: 2.8957e-04 - val_mse: 1.2079e-07\n",
      "Epoch 95/100\n",
      "125/125 [==============================] - 0s 1ms/step - loss: 1.5931e-08 - mae: 9.0279e-05 - mse: 1.5931e-08 - val_loss: 2.7350e-08 - val_mae: 1.3472e-04 - val_mse: 2.7350e-08\n",
      "Epoch 96/100\n",
      "125/125 [==============================] - 0s 963us/step - loss: 4.8695e-06 - mae: 0.0012 - mse: 4.8695e-06 - val_loss: 3.1598e-08 - val_mae: 1.5015e-04 - val_mse: 3.1598e-08\n",
      "Epoch 97/100\n",
      "125/125 [==============================] - 0s 1ms/step - loss: 7.9112e-06 - mae: 0.0019 - mse: 7.9112e-06 - val_loss: 7.4062e-07 - val_mae: 7.1948e-04 - val_mse: 7.4062e-07\n",
      "Epoch 98/100\n",
      "125/125 [==============================] - 0s 963us/step - loss: 3.7653e-06 - mae: 8.1893e-04 - mse: 3.7653e-06 - val_loss: 6.9099e-06 - val_mae: 0.0023 - val_mse: 6.9099e-06\n",
      "Epoch 99/100\n",
      "125/125 [==============================] - 0s 959us/step - loss: 7.1651e-06 - mae: 0.0014 - mse: 7.1651e-06 - val_loss: 1.0504e-05 - val_mae: 0.0027 - val_mse: 1.0504e-05\n",
      "Epoch 100/100\n",
      "125/125 [==============================] - 0s 1ms/step - loss: 7.8123e-07 - mae: 5.2741e-04 - mse: 7.8123e-07 - val_loss: 2.4822e-06 - val_mae: 0.0014 - val_mse: 2.4822e-06\n"
     ]
    },
    {
     "data": {
      "text/plain": [
       "<keras.callbacks.History at 0x7fd9c31b3760>"
      ]
     },
     "execution_count": 10,
     "metadata": {},
     "output_type": "execute_result"
    }
   ],
   "source": [
    "model = tf.keras.Sequential([\n",
    "      tf.keras.layers.Dense(1, use_bias=True, input_shape=(1,)) # needs to units to learn a quadratic function\n",
    "    ])\n",
    "\n",
    "# Adam optimiser\n",
    "optimizer = tf.keras.optimizers.Adam(\n",
    "    learning_rate=0.01, beta_1=0.9, beta_2=0.99, epsilon=1e-05, amsgrad=False,\n",
    "    name='Adam')\n",
    "  \n",
    "# Model compiling settings\n",
    "model.compile(loss='mse', optimizer=optimizer, metrics=['mae','mse'])\n",
    "\n",
    "model.fit(\n",
    " x, y_gt,\n",
    " batch_size = 64,\n",
    " epochs = 100,\n",
    " validation_split = 0.2)"
   ]
  },
  {
   "attachments": {},
   "cell_type": "markdown",
   "metadata": {},
   "source": [
    "Let's plot the model predictions `y_pred` for the training inputs `x` in red, and their ground truth values `y_gt` in blue."
   ]
  },
  {
   "cell_type": "code",
   "execution_count": 11,
   "metadata": {},
   "outputs": [
    {
     "name": "stdout",
     "output_type": "stream",
     "text": [
      "313/313 [==============================] - 0s 658us/step\n"
     ]
    },
    {
     "data": {
      "image/png": "[encoded data removed]",
      "text/plain": [
       "<Figure size 640x480 with 1 Axes>"
      ]
     },
     "metadata": {},
     "output_type": "display_data"
    }
   ],
   "source": [
    "y_pred = model.predict(x)\n",
    "plt.scatter(x, y_gt, label='training data')\n",
    "plt.plot(x, y_pred, label='prediction', color='r')\n",
    "plt.legend()\n",
    "plt.xlabel('x')\n",
    "plt.ylabel('y')\n",
    "plt.show()"
   ]
  },
  {
   "attachments": {},
   "cell_type": "markdown",
   "metadata": {},
   "source": [
    "Now we can convert the model into a tflite model and save it into the `../bela-tf-lite` folder."
   ]
  },
  {
   "cell_type": "code",
   "execution_count": 12,
   "metadata": {},
   "outputs": [
    {
     "name": "stderr",
     "output_type": "stream",
     "text": [
      "WARNING:absl:Found untraced functions such as _update_step_xla while saving (showing 1 of 1). These functions will not be directly callable after loading.\n"
     ]
    },
    {
     "name": "stdout",
     "output_type": "stream",
     "text": [
      "INFO:tensorflow:Assets written to: /var/folders/xf/y0yb8j3d5cdc9fs6prv5ht2h0000gn/T/tmpgo10tjke/assets\n"
     ]
    },
    {
     "name": "stderr",
     "output_type": "stream",
     "text": [
      "INFO:tensorflow:Assets written to: /var/folders/xf/y0yb8j3d5cdc9fs6prv5ht2h0000gn/T/tmpgo10tjke/assets\n",
      "2023-01-02 22:40:34.995458: W tensorflow/compiler/mlir/lite/python/tf_tfl_flatbuffer_helpers.cc:362] Ignored output_format.\n",
      "2023-01-02 22:40:34.996040: W tensorflow/compiler/mlir/lite/python/tf_tfl_flatbuffer_helpers.cc:365] Ignored drop_control_dependency.\n",
      "2023-01-02 22:40:35.000241: I tensorflow/cc/saved_model/reader.cc:45] Reading SavedModel from: /var/folders/xf/y0yb8j3d5cdc9fs6prv5ht2h0000gn/T/tmpgo10tjke\n",
      "2023-01-02 22:40:35.001089: I tensorflow/cc/saved_model/reader.cc:89] Reading meta graph with tags { serve }\n",
      "2023-01-02 22:40:35.001104: I tensorflow/cc/saved_model/reader.cc:130] Reading SavedModel debug info (if present) from: /var/folders/xf/y0yb8j3d5cdc9fs6prv5ht2h0000gn/T/tmpgo10tjke\n",
      "2023-01-02 22:40:35.005713: I tensorflow/compiler/mlir/mlir_graph_optimization_pass.cc:357] MLIR V1 optimization pass is not enabled\n",
      "2023-01-02 22:40:35.006820: I tensorflow/cc/saved_model/loader.cc:229] Restoring SavedModel bundle.\n",
      "2023-01-02 22:40:35.056758: I tensorflow/cc/saved_model/loader.cc:213] Running initialization op on SavedModel bundle at path: /var/folders/xf/y0yb8j3d5cdc9fs6prv5ht2h0000gn/T/tmpgo10tjke\n",
      "2023-01-02 22:40:35.064577: I tensorflow/cc/saved_model/loader.cc:305] SavedModel load for tags { serve }; Status: success: OK. Took 64528 microseconds.\n",
      "2023-01-02 22:40:35.118654: I tensorflow/compiler/mlir/tensorflow/utils/dump_mlir_util.cc:268] disabling MLIR crash reproducer, set env var `MLIR_CRASH_REPRODUCER_DIRECTORY` to enable.\n"
     ]
    }
   ],
   "source": [
    "# convert into tflite model # https://www.tensorflow.org/lite/models/convert/convert_models#convert_a_keras_model_\n",
    "converter = tf.lite.TFLiteConverter.from_keras_model(model)\n",
    "tflite_model = converter.convert()"
   ]
  },
  {
   "cell_type": "code",
   "execution_count": 13,
   "metadata": {},
   "outputs": [],
   "source": [
    "# Save the model.\n",
    "with open('../bela-tf-linear/model.tflite', 'wb') as f:\n",
    "  f.write(tflite_model)"
   ]
  }
 ],
 "metadata": {
  "kernelspec": {
   "display_name": "bela-tflite-example-NG5w0JxQ",
   "language": "python",
   "name": "python3"
  },
  "language_info": {
   "codemirror_mode": {
    "name": "ipython",
    "version": 3
   },
   "file_extension": ".py",
   "mimetype": "text/x-python",
   "name": "python",
   "nbconvert_exporter": "python",
   "pygments_lexer": "ipython3",
   "version": "3.9.12"
  },
  "orig_nbformat": 4,
  "vscode": {
   "interpreter": {
    "hash": "920a5db8b5114f97377045eecb7310d8f515bf27fc92625012c0aafbe87c0c38"
   }
  }
 },
 "nbformat": 4,
 "nbformat_minor": 2
}
